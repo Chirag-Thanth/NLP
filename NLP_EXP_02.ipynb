{
  "nbformat": 4,
  "nbformat_minor": 0,
  "metadata": {
    "colab": {
      "provenance": []
    },
    "kernelspec": {
      "name": "python3",
      "display_name": "Python 3"
    },
    "language_info": {
      "name": "python"
    }
  },
  "cells": [
    {
      "cell_type": "code",
      "execution_count": 1,
      "metadata": {
        "colab": {
          "base_uri": "https://localhost:8080/",
          "height": 0
        },
        "id": "hSqmOtlT3C1Y",
        "outputId": "34f9dd78-1c90-4235-c513-fa8c3413c393"
      },
      "outputs": [
        {
          "output_type": "stream",
          "name": "stdout",
          "text": [
            "Requirement already satisfied: nltk in /usr/local/lib/python3.10/dist-packages (3.8.1)\n",
            "Requirement already satisfied: click in /usr/local/lib/python3.10/dist-packages (from nltk) (8.1.6)\n",
            "Requirement already satisfied: joblib in /usr/local/lib/python3.10/dist-packages (from nltk) (1.3.2)\n",
            "Requirement already satisfied: regex>=2021.8.3 in /usr/local/lib/python3.10/dist-packages (from nltk) (2023.6.3)\n",
            "Requirement already satisfied: tqdm in /usr/local/lib/python3.10/dist-packages (from nltk) (4.66.1)\n"
          ]
        }
      ],
      "source": [
        "pip install nltk\n"
      ]
    },
    {
      "cell_type": "code",
      "source": [
        "import nltk"
      ],
      "metadata": {
        "id": "ZEQ1kNEi3JXU"
      },
      "execution_count": 2,
      "outputs": []
    },
    {
      "cell_type": "code",
      "source": [
        "nltk.download()"
      ],
      "metadata": {
        "colab": {
          "base_uri": "https://localhost:8080/",
          "height": 0
        },
        "id": "eDqoNtXz3RVz",
        "outputId": "2324c957-353a-45fb-8056-7ebd9cb9e2f3"
      },
      "execution_count": 4,
      "outputs": [
        {
          "name": "stdout",
          "output_type": "stream",
          "text": [
            "NLTK Downloader\n",
            "---------------------------------------------------------------------------\n",
            "    d) Download   l) List    u) Update   c) Config   h) Help   q) Quit\n",
            "---------------------------------------------------------------------------\n",
            "Downloader> d\n",
            "\n",
            "Download which package (l=list; x=cancel)?\n",
            "  Identifier> punkt\n"
          ]
        },
        {
          "output_type": "stream",
          "name": "stderr",
          "text": [
            "    Downloading package punkt to /root/nltk_data...\n",
            "      Unzipping tokenizers/punkt.zip.\n"
          ]
        },
        {
          "name": "stdout",
          "output_type": "stream",
          "text": [
            "\n",
            "---------------------------------------------------------------------------\n",
            "    d) Download   l) List    u) Update   c) Config   h) Help   q) Quit\n",
            "---------------------------------------------------------------------------\n",
            "Downloader> q\n"
          ]
        },
        {
          "output_type": "execute_result",
          "data": {
            "text/plain": [
              "True"
            ]
          },
          "metadata": {},
          "execution_count": 4
        }
      ]
    },
    {
      "cell_type": "code",
      "source": [
        "from nltk.tokenize import sent_tokenize"
      ],
      "metadata": {
        "id": "nZ9HmpLo3VHr"
      },
      "execution_count": 5,
      "outputs": []
    },
    {
      "cell_type": "code",
      "source": [
        "text = \" Myself Chirag thanth from Vidyavardhinis college of Enginnering . The college is affiliated to University of Mumbai . \""
      ],
      "metadata": {
        "id": "BkC-PWS14Lr0"
      },
      "execution_count": 10,
      "outputs": []
    },
    {
      "cell_type": "code",
      "source": [
        "text\n"
      ],
      "metadata": {
        "colab": {
          "base_uri": "https://localhost:8080/",
          "height": 35
        },
        "id": "dMUSBTCJ4wJk",
        "outputId": "e6d8b2d2-114c-4530-f73d-2b16ba26de7c"
      },
      "execution_count": 11,
      "outputs": [
        {
          "output_type": "execute_result",
          "data": {
            "text/plain": [
              "' Myself Chirag thanth from Vidyavardhinis college of Enginnering . The college is affiliated to University of Mumbai . '"
            ],
            "application/vnd.google.colaboratory.intrinsic+json": {
              "type": "string"
            }
          },
          "metadata": {},
          "execution_count": 11
        }
      ]
    },
    {
      "cell_type": "code",
      "source": [
        "sentences = sent_tokenize (text)"
      ],
      "metadata": {
        "id": "MLSo7QFf4yO7"
      },
      "execution_count": 12,
      "outputs": []
    },
    {
      "cell_type": "code",
      "source": [
        "sentences"
      ],
      "metadata": {
        "colab": {
          "base_uri": "https://localhost:8080/",
          "height": 0
        },
        "id": "4K5Mued542Xa",
        "outputId": "3d0d3a46-dc6f-4411-d163-d33f19de7d20"
      },
      "execution_count": 13,
      "outputs": [
        {
          "output_type": "execute_result",
          "data": {
            "text/plain": [
              "[' Myself Chirag thanth from Vidyavardhinis college of Enginnering .',\n",
              " 'The college is affiliated to University of Mumbai .']"
            ]
          },
          "metadata": {},
          "execution_count": 13
        }
      ]
    },
    {
      "cell_type": "code",
      "source": [
        "from nltk.tokenize import word_tokenize"
      ],
      "metadata": {
        "id": "tdJA4yGo43F7"
      },
      "execution_count": 14,
      "outputs": []
    },
    {
      "cell_type": "code",
      "source": [
        "words = word_tokenize (text)"
      ],
      "metadata": {
        "id": "JMhN_A-V5EFK"
      },
      "execution_count": 15,
      "outputs": []
    },
    {
      "cell_type": "code",
      "source": [
        "words"
      ],
      "metadata": {
        "colab": {
          "base_uri": "https://localhost:8080/",
          "height": 0
        },
        "id": "3l9oKM5N5G9T",
        "outputId": "29d26301-4fd4-4b2c-aaf3-569a42f590d4"
      },
      "execution_count": 16,
      "outputs": [
        {
          "output_type": "execute_result",
          "data": {
            "text/plain": [
              "['Myself',\n",
              " 'Chirag',\n",
              " 'thanth',\n",
              " 'from',\n",
              " 'Vidyavardhinis',\n",
              " 'college',\n",
              " 'of',\n",
              " 'Enginnering',\n",
              " '.',\n",
              " 'The',\n",
              " 'college',\n",
              " 'is',\n",
              " 'affiliated',\n",
              " 'to',\n",
              " 'University',\n",
              " 'of',\n",
              " 'Mumbai',\n",
              " '.']"
            ]
          },
          "metadata": {},
          "execution_count": 16
        }
      ]
    },
    {
      "cell_type": "code",
      "source": [
        "for w in words:\n",
        "    print (w)"
      ],
      "metadata": {
        "colab": {
          "base_uri": "https://localhost:8080/",
          "height": 0
        },
        "id": "v9K-yKHb5IMz",
        "outputId": "1504764e-d6bf-4b26-b8ca-174878c66c46"
      },
      "execution_count": 17,
      "outputs": [
        {
          "output_type": "stream",
          "name": "stdout",
          "text": [
            "Myself\n",
            "Chirag\n",
            "thanth\n",
            "from\n",
            "Vidyavardhinis\n",
            "college\n",
            "of\n",
            "Enginnering\n",
            ".\n",
            "The\n",
            "college\n",
            "is\n",
            "affiliated\n",
            "to\n",
            "University\n",
            "of\n",
            "Mumbai\n",
            ".\n"
          ]
        }
      ]
    },
    {
      "cell_type": "code",
      "source": [
        "sent_tokenize (text)"
      ],
      "metadata": {
        "colab": {
          "base_uri": "https://localhost:8080/",
          "height": 0
        },
        "id": "-AeF0wt55MW7",
        "outputId": "096cb503-b3a7-42e6-918a-0b06b9d2bf5e"
      },
      "execution_count": 18,
      "outputs": [
        {
          "output_type": "execute_result",
          "data": {
            "text/plain": [
              "[' Myself Chirag thanth from Vidyavardhinis college of Enginnering .',\n",
              " 'The college is affiliated to University of Mumbai .']"
            ]
          },
          "metadata": {},
          "execution_count": 18
        }
      ]
    },
    {
      "cell_type": "code",
      "source": [
        "[word_tokenize (text) for t in sent_tokenize(text)]"
      ],
      "metadata": {
        "colab": {
          "base_uri": "https://localhost:8080/",
          "height": 0
        },
        "id": "nTrPoUbF5QyL",
        "outputId": "aa3afff0-3f4e-497a-85b5-40469b60c411"
      },
      "execution_count": 19,
      "outputs": [
        {
          "output_type": "execute_result",
          "data": {
            "text/plain": [
              "[['Myself',\n",
              "  'Chirag',\n",
              "  'thanth',\n",
              "  'from',\n",
              "  'Vidyavardhinis',\n",
              "  'college',\n",
              "  'of',\n",
              "  'Enginnering',\n",
              "  '.',\n",
              "  'The',\n",
              "  'college',\n",
              "  'is',\n",
              "  'affiliated',\n",
              "  'to',\n",
              "  'University',\n",
              "  'of',\n",
              "  'Mumbai',\n",
              "  '.'],\n",
              " ['Myself',\n",
              "  'Chirag',\n",
              "  'thanth',\n",
              "  'from',\n",
              "  'Vidyavardhinis',\n",
              "  'college',\n",
              "  'of',\n",
              "  'Enginnering',\n",
              "  '.',\n",
              "  'The',\n",
              "  'college',\n",
              "  'is',\n",
              "  'affiliated',\n",
              "  'to',\n",
              "  'University',\n",
              "  'of',\n",
              "  'Mumbai',\n",
              "  '.']]"
            ]
          },
          "metadata": {},
          "execution_count": 19
        }
      ]
    },
    {
      "cell_type": "code",
      "source": [
        "from nltk.tokenize import wordpunct_tokenize"
      ],
      "metadata": {
        "id": "EWnGmAso5TiD"
      },
      "execution_count": 20,
      "outputs": []
    },
    {
      "cell_type": "code",
      "source": [
        "wordpunct_tokenize (text)"
      ],
      "metadata": {
        "colab": {
          "base_uri": "https://localhost:8080/",
          "height": 0
        },
        "id": "1tEBGdNs5XQ7",
        "outputId": "ae02ec70-0d5c-465b-ad1c-2515434b1445"
      },
      "execution_count": 21,
      "outputs": [
        {
          "output_type": "execute_result",
          "data": {
            "text/plain": [
              "['Myself',\n",
              " 'Chirag',\n",
              " 'thanth',\n",
              " 'from',\n",
              " 'Vidyavardhinis',\n",
              " 'college',\n",
              " 'of',\n",
              " 'Enginnering',\n",
              " '.',\n",
              " 'The',\n",
              " 'college',\n",
              " 'is',\n",
              " 'affiliated',\n",
              " 'to',\n",
              " 'University',\n",
              " 'of',\n",
              " 'Mumbai',\n",
              " '.']"
            ]
          },
          "metadata": {},
          "execution_count": 21
        }
      ]
    },
    {
      "cell_type": "code",
      "source": [
        "text.lower()"
      ],
      "metadata": {
        "colab": {
          "base_uri": "https://localhost:8080/",
          "height": 35
        },
        "id": "Q_qyTjNW5ZV7",
        "outputId": "5909c45c-2c7d-4ba7-ae7e-41e277884983"
      },
      "execution_count": 22,
      "outputs": [
        {
          "output_type": "execute_result",
          "data": {
            "text/plain": [
              "' myself chirag thanth from vidyavardhinis college of enginnering . the college is affiliated to university of mumbai . '"
            ],
            "application/vnd.google.colaboratory.intrinsic+json": {
              "type": "string"
            }
          },
          "metadata": {},
          "execution_count": 22
        }
      ]
    },
    {
      "cell_type": "code",
      "source": [
        "text.upper()"
      ],
      "metadata": {
        "colab": {
          "base_uri": "https://localhost:8080/",
          "height": 35
        },
        "id": "0Nr4sdfc5dIz",
        "outputId": "8d43b0cb-f92f-43b1-8b47-84217c1d5351"
      },
      "execution_count": 23,
      "outputs": [
        {
          "output_type": "execute_result",
          "data": {
            "text/plain": [
              "' MYSELF CHIRAG THANTH FROM VIDYAVARDHINIS COLLEGE OF ENGINNERING . THE COLLEGE IS AFFILIATED TO UNIVERSITY OF MUMBAI . '"
            ],
            "application/vnd.google.colaboratory.intrinsic+json": {
              "type": "string"
            }
          },
          "metadata": {},
          "execution_count": 23
        }
      ]
    },
    {
      "cell_type": "code",
      "source": [],
      "metadata": {
        "id": "yufVYTEv5fYT"
      },
      "execution_count": null,
      "outputs": []
    }
  ]
}