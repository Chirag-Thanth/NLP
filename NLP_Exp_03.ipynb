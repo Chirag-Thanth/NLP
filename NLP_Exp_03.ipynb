{
  "cells": [
    {
      "cell_type": "markdown",
      "id": "regular-fellow",
      "metadata": {
        "id": "regular-fellow"
      },
      "source": [
        "### Library required for Preprocessing"
      ]
    },
    {
      "cell_type": "code",
      "execution_count": 2,
      "id": "million-methodology",
      "metadata": {
        "colab": {
          "base_uri": "https://localhost:8080/"
        },
        "id": "million-methodology",
        "outputId": "61ff6d3e-cf5c-4098-c67d-4d6e05e4cccf"
      },
      "outputs": [
        {
          "output_type": "stream",
          "name": "stdout",
          "text": [
            "Requirement already satisfied: nltk in /usr/local/lib/python3.10/dist-packages (3.8.1)\n",
            "Requirement already satisfied: click in /usr/local/lib/python3.10/dist-packages (from nltk) (8.1.7)\n",
            "Requirement already satisfied: joblib in /usr/local/lib/python3.10/dist-packages (from nltk) (1.3.2)\n",
            "Requirement already satisfied: regex>=2021.8.3 in /usr/local/lib/python3.10/dist-packages (from nltk) (2023.6.3)\n",
            "Requirement already satisfied: tqdm in /usr/local/lib/python3.10/dist-packages (from nltk) (4.66.1)\n"
          ]
        }
      ],
      "source": [
        "!pip install nltk"
      ]
    },
    {
      "cell_type": "code",
      "execution_count": 3,
      "id": "alien-breathing",
      "metadata": {
        "id": "alien-breathing"
      },
      "outputs": [],
      "source": [
        "import nltk"
      ]
    },
    {
      "cell_type": "code",
      "execution_count": 9,
      "id": "juvenile-powder",
      "metadata": {
        "colab": {
          "base_uri": "https://localhost:8080/"
        },
        "id": "juvenile-powder",
        "outputId": "0e5f322b-cdd1-4be5-9e5e-3cbb7980d073"
      },
      "outputs": [
        {
          "name": "stdout",
          "output_type": "stream",
          "text": [
            "NLTK Downloader\n",
            "---------------------------------------------------------------------------\n",
            "    d) Download   l) List    u) Update   c) Config   h) Help   q) Quit\n",
            "---------------------------------------------------------------------------\n",
            "Downloader> d\n",
            "\n",
            "Download which package (l=list; x=cancel)?\n",
            "  Identifier> punkt\n"
          ]
        },
        {
          "output_type": "stream",
          "name": "stderr",
          "text": [
            "    Downloading package punkt to /root/nltk_data...\n",
            "      Unzipping tokenizers/punkt.zip.\n"
          ]
        },
        {
          "name": "stdout",
          "output_type": "stream",
          "text": [
            "\n",
            "---------------------------------------------------------------------------\n",
            "    d) Download   l) List    u) Update   c) Config   h) Help   q) Quit\n",
            "---------------------------------------------------------------------------\n",
            "Downloader> q\n"
          ]
        },
        {
          "output_type": "execute_result",
          "data": {
            "text/plain": [
              "True"
            ]
          },
          "metadata": {},
          "execution_count": 9
        }
      ],
      "source": [
        "nltk.download()"
      ]
    },
    {
      "cell_type": "markdown",
      "id": "funded-pontiac",
      "metadata": {
        "id": "funded-pontiac"
      },
      "source": [
        "### Sentence Tokenization"
      ]
    },
    {
      "cell_type": "code",
      "execution_count": 10,
      "id": "offshore-contrast",
      "metadata": {
        "id": "offshore-contrast"
      },
      "outputs": [],
      "source": [
        "from nltk.tokenize import sent_tokenize"
      ]
    },
    {
      "cell_type": "code",
      "execution_count": 11,
      "id": "tested-portable",
      "metadata": {
        "id": "tested-portable"
      },
      "outputs": [],
      "source": [
        "text = '''Myself Chirag From VCET , From CSE(DS) department . Studying in Final Year'''"
      ]
    },
    {
      "cell_type": "code",
      "execution_count": 12,
      "id": "handmade-wedding",
      "metadata": {
        "colab": {
          "base_uri": "https://localhost:8080/",
          "height": 36
        },
        "id": "handmade-wedding",
        "outputId": "d49917f7-afa4-4f49-a13d-e1a9ef1cfcfb"
      },
      "outputs": [
        {
          "output_type": "execute_result",
          "data": {
            "text/plain": [
              "'Myself Chirag From VCET , From CSE(DS) department . Studying in Final Year'"
            ],
            "application/vnd.google.colaboratory.intrinsic+json": {
              "type": "string"
            }
          },
          "metadata": {},
          "execution_count": 12
        }
      ],
      "source": [
        "text"
      ]
    },
    {
      "cell_type": "code",
      "execution_count": 13,
      "id": "curious-legislature",
      "metadata": {
        "id": "curious-legislature"
      },
      "outputs": [],
      "source": [
        "sentences = sent_tokenize (text)"
      ]
    },
    {
      "cell_type": "code",
      "execution_count": 14,
      "id": "bored-narrative",
      "metadata": {
        "colab": {
          "base_uri": "https://localhost:8080/"
        },
        "id": "bored-narrative",
        "outputId": "aaf5da6e-5948-4f0d-b1d6-75fe409bd097"
      },
      "outputs": [
        {
          "output_type": "execute_result",
          "data": {
            "text/plain": [
              "['Myself Chirag From VCET , From CSE(DS) department .',\n",
              " 'Studying in Final Year']"
            ]
          },
          "metadata": {},
          "execution_count": 14
        }
      ],
      "source": [
        "sentences"
      ]
    },
    {
      "cell_type": "markdown",
      "id": "suitable-franchise",
      "metadata": {
        "id": "suitable-franchise"
      },
      "source": [
        "### Word Tokenization"
      ]
    },
    {
      "cell_type": "code",
      "execution_count": 15,
      "id": "alien-basin",
      "metadata": {
        "id": "alien-basin"
      },
      "outputs": [],
      "source": [
        "from nltk.tokenize import word_tokenize"
      ]
    },
    {
      "cell_type": "code",
      "execution_count": 16,
      "id": "innovative-hayes",
      "metadata": {
        "id": "innovative-hayes"
      },
      "outputs": [],
      "source": [
        "words = word_tokenize (text)"
      ]
    },
    {
      "cell_type": "code",
      "execution_count": 17,
      "id": "sporting-medicare",
      "metadata": {
        "colab": {
          "base_uri": "https://localhost:8080/"
        },
        "id": "sporting-medicare",
        "outputId": "46e11bec-6389-4f90-c416-664a3d899ff2"
      },
      "outputs": [
        {
          "output_type": "execute_result",
          "data": {
            "text/plain": [
              "['Myself',\n",
              " 'Chirag',\n",
              " 'From',\n",
              " 'VCET',\n",
              " ',',\n",
              " 'From',\n",
              " 'CSE',\n",
              " '(',\n",
              " 'DS',\n",
              " ')',\n",
              " 'department',\n",
              " '.',\n",
              " 'Studying',\n",
              " 'in',\n",
              " 'Final',\n",
              " 'Year']"
            ]
          },
          "metadata": {},
          "execution_count": 17
        }
      ],
      "source": [
        "words"
      ]
    },
    {
      "cell_type": "code",
      "execution_count": 18,
      "id": "hybrid-motivation",
      "metadata": {
        "colab": {
          "base_uri": "https://localhost:8080/"
        },
        "id": "hybrid-motivation",
        "outputId": "f2046817-669b-4652-fa17-dad936b11113"
      },
      "outputs": [
        {
          "output_type": "stream",
          "name": "stdout",
          "text": [
            "Myself\n",
            "Chirag\n",
            "From\n",
            "VCET\n",
            ",\n",
            "From\n",
            "CSE\n",
            "(\n",
            "DS\n",
            ")\n",
            "department\n",
            ".\n",
            "Studying\n",
            "in\n",
            "Final\n",
            "Year\n"
          ]
        }
      ],
      "source": [
        "for w in words:\n",
        "    print (w)"
      ]
    },
    {
      "cell_type": "markdown",
      "id": "related-submission",
      "metadata": {
        "id": "related-submission"
      },
      "source": [
        "### Levels of Sentences Tokenization using Comprehension"
      ]
    },
    {
      "cell_type": "code",
      "execution_count": 19,
      "id": "german-vintage",
      "metadata": {
        "colab": {
          "base_uri": "https://localhost:8080/"
        },
        "id": "german-vintage",
        "outputId": "063719ce-61d7-4afc-bb79-8919d2503fe8"
      },
      "outputs": [
        {
          "output_type": "execute_result",
          "data": {
            "text/plain": [
              "['Myself Chirag From VCET , From CSE(DS) department .',\n",
              " 'Studying in Final Year']"
            ]
          },
          "metadata": {},
          "execution_count": 19
        }
      ],
      "source": [
        "sent_tokenize (text)"
      ]
    },
    {
      "cell_type": "code",
      "execution_count": 20,
      "id": "cardiovascular-hazard",
      "metadata": {
        "colab": {
          "base_uri": "https://localhost:8080/"
        },
        "id": "cardiovascular-hazard",
        "outputId": "af50d8f5-9a39-4ef3-a03b-b8be6dd85abf"
      },
      "outputs": [
        {
          "output_type": "execute_result",
          "data": {
            "text/plain": [
              "[['Myself',\n",
              "  'Chirag',\n",
              "  'From',\n",
              "  'VCET',\n",
              "  ',',\n",
              "  'From',\n",
              "  'CSE',\n",
              "  '(',\n",
              "  'DS',\n",
              "  ')',\n",
              "  'department',\n",
              "  '.',\n",
              "  'Studying',\n",
              "  'in',\n",
              "  'Final',\n",
              "  'Year'],\n",
              " ['Myself',\n",
              "  'Chirag',\n",
              "  'From',\n",
              "  'VCET',\n",
              "  ',',\n",
              "  'From',\n",
              "  'CSE',\n",
              "  '(',\n",
              "  'DS',\n",
              "  ')',\n",
              "  'department',\n",
              "  '.',\n",
              "  'Studying',\n",
              "  'in',\n",
              "  'Final',\n",
              "  'Year']]"
            ]
          },
          "metadata": {},
          "execution_count": 20
        }
      ],
      "source": [
        "[word_tokenize (text) for t in sent_tokenize(text)]"
      ]
    },
    {
      "cell_type": "code",
      "execution_count": 21,
      "id": "saving-trade",
      "metadata": {
        "id": "saving-trade"
      },
      "outputs": [],
      "source": [
        "from nltk.tokenize import wordpunct_tokenize"
      ]
    },
    {
      "cell_type": "code",
      "execution_count": 22,
      "id": "decimal-presence",
      "metadata": {
        "colab": {
          "base_uri": "https://localhost:8080/"
        },
        "id": "decimal-presence",
        "outputId": "44c56755-f579-48a7-ed43-419fb2f87682"
      },
      "outputs": [
        {
          "output_type": "execute_result",
          "data": {
            "text/plain": [
              "['Myself',\n",
              " 'Chirag',\n",
              " 'From',\n",
              " 'VCET',\n",
              " ',',\n",
              " 'From',\n",
              " 'CSE',\n",
              " '(',\n",
              " 'DS',\n",
              " ')',\n",
              " 'department',\n",
              " '.',\n",
              " 'Studying',\n",
              " 'in',\n",
              " 'Final',\n",
              " 'Year']"
            ]
          },
          "metadata": {},
          "execution_count": 22
        }
      ],
      "source": [
        "wordpunct_tokenize (text)"
      ]
    },
    {
      "cell_type": "markdown",
      "id": "equal-kitty",
      "metadata": {
        "id": "equal-kitty"
      },
      "source": [
        "### Filteration of Text by converting into lower case"
      ]
    },
    {
      "cell_type": "code",
      "execution_count": 23,
      "id": "alpha-cannon",
      "metadata": {
        "colab": {
          "base_uri": "https://localhost:8080/",
          "height": 36
        },
        "id": "alpha-cannon",
        "outputId": "f04c5818-959d-497f-d0d9-bcd0ea6e3a7a"
      },
      "outputs": [
        {
          "output_type": "execute_result",
          "data": {
            "text/plain": [
              "'myself chirag from vcet , from cse(ds) department . studying in final year'"
            ],
            "application/vnd.google.colaboratory.intrinsic+json": {
              "type": "string"
            }
          },
          "metadata": {},
          "execution_count": 23
        }
      ],
      "source": [
        "text.lower()"
      ]
    },
    {
      "cell_type": "code",
      "execution_count": 24,
      "id": "bulgarian-performer",
      "metadata": {
        "colab": {
          "base_uri": "https://localhost:8080/",
          "height": 36
        },
        "id": "bulgarian-performer",
        "outputId": "51a23930-363f-4024-add1-9feff1e758b1"
      },
      "outputs": [
        {
          "output_type": "execute_result",
          "data": {
            "text/plain": [
              "'MYSELF CHIRAG FROM VCET , FROM CSE(DS) DEPARTMENT . STUDYING IN FINAL YEAR'"
            ],
            "application/vnd.google.colaboratory.intrinsic+json": {
              "type": "string"
            }
          },
          "metadata": {},
          "execution_count": 24
        }
      ],
      "source": [
        "text.upper()"
      ]
    },
    {
      "cell_type": "code",
      "source": [],
      "metadata": {
        "id": "7tS5ntBYpgoA"
      },
      "id": "7tS5ntBYpgoA",
      "execution_count": null,
      "outputs": []
    }
  ],
  "metadata": {
    "kernelspec": {
      "display_name": "Python 3",
      "language": "python",
      "name": "python3"
    },
    "language_info": {
      "codemirror_mode": {
        "name": "ipython",
        "version": 3
      },
      "file_extension": ".py",
      "mimetype": "text/x-python",
      "name": "python",
      "nbconvert_exporter": "python",
      "pygments_lexer": "ipython3",
      "version": "3.7.0"
    },
    "colab": {
      "provenance": []
    }
  },
  "nbformat": 4,
  "nbformat_minor": 5
}