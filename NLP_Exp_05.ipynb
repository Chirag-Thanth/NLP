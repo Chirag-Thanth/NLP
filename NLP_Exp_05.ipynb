{
  "cells": [
    {
      "cell_type": "markdown",
      "id": "1b4f0f19-d3bb-44c7-9170-edf94f3589db",
      "metadata": {
        "id": "1b4f0f19-d3bb-44c7-9170-edf94f3589db"
      },
      "source": [
        "## Parts of Speech"
      ]
    },
    {
      "cell_type": "markdown",
      "id": "6ba18e31-e929-44b0-87f1-0ce10d867057",
      "metadata": {
        "id": "6ba18e31-e929-44b0-87f1-0ce10d867057"
      },
      "source": [
        "#### Tag|Meaning|English Examples\n",
        "#### ADJ|adjective|new, good, high, special, big, local\n",
        "#### ADP|adposition|on, of, at, with, by, into, under\n",
        "#### ADV|adverb|really, already, still, early, now\n",
        "#### CONJ|conjunction|and, or, but, if, while, although\n",
        "#### DET|determiner, article|the, a, some, most, every, no, which\n",
        "#### NOUN|noun|year, home, costs, time, Africa\n",
        "#### NUM|numeral|twenty-four, fourth, 1991, 14:24\n",
        "#### PRT|particle|at, on, out, over per, that, up, with\n",
        "#### PRON|pronoun|he, their, her, its, my, I, us\n",
        "#### VERB|verb|is, say, told, given, playing, would\n",
        "#### .|punctuation marks|. , ; !\n",
        "#### X|other|ersatz, esprit, dunno, gr8, univeristy"
      ]
    },
    {
      "cell_type": "code",
      "execution_count": 1,
      "id": "ac4116af-c258-492c-b40b-3760829add57",
      "metadata": {
        "id": "ac4116af-c258-492c-b40b-3760829add57"
      },
      "outputs": [],
      "source": [
        "text = \"Myself Chirag from VCET college . Studying in FINAL year . With specialization in DATA SCIENCE.\""
      ]
    },
    {
      "cell_type": "markdown",
      "id": "b6a01ae5-d588-4476-bed6-888810444f27",
      "metadata": {
        "id": "b6a01ae5-d588-4476-bed6-888810444f27"
      },
      "source": [
        "### Importing necessary dependencies"
      ]
    },
    {
      "cell_type": "code",
      "execution_count": 11,
      "id": "a107f74a-2400-4b98-8c2f-81e1af5234c5",
      "metadata": {
        "colab": {
          "base_uri": "https://localhost:8080/"
        },
        "id": "a107f74a-2400-4b98-8c2f-81e1af5234c5",
        "outputId": "f92569d6-55d2-4481-eb0e-9a83b27867c1"
      },
      "outputs": [
        {
          "output_type": "stream",
          "name": "stderr",
          "text": [
            "[nltk_data] Downloading package punkt to /root/nltk_data...\n",
            "[nltk_data]   Package punkt is already up-to-date!\n",
            "[nltk_data] Downloading package averaged_perceptron_tagger to\n",
            "[nltk_data]     /root/nltk_data...\n",
            "[nltk_data]   Package averaged_perceptron_tagger is already up-to-\n",
            "[nltk_data]       date!\n",
            "[nltk_data] Downloading package universal_tagset to /root/nltk_data...\n",
            "[nltk_data]   Unzipping taggers/universal_tagset.zip.\n"
          ]
        }
      ],
      "source": [
        "import nltk\n",
        "nltk.download('punkt')\n",
        "nltk.download('averaged_perceptron_tagger')\n",
        "nltk.download('universal_tagset')\n",
        "from nltk.tokenize import word_tokenize"
      ]
    },
    {
      "cell_type": "markdown",
      "id": "d27584dd-2d79-47fb-b4d9-6d97671d3293",
      "metadata": {
        "id": "d27584dd-2d79-47fb-b4d9-6d97671d3293"
      },
      "source": [
        "### Word Tokenization"
      ]
    },
    {
      "cell_type": "code",
      "execution_count": 12,
      "id": "fd61f00f-2b46-4301-9103-5856e3c380d6",
      "metadata": {
        "id": "fd61f00f-2b46-4301-9103-5856e3c380d6"
      },
      "outputs": [],
      "source": [
        "words = word_tokenize(text)"
      ]
    },
    {
      "cell_type": "markdown",
      "id": "c0c1dd07-8de1-420a-b86c-0b032c573c2a",
      "metadata": {
        "id": "c0c1dd07-8de1-420a-b86c-0b032c573c2a"
      },
      "source": [
        "### Parts of Speech Tagging"
      ]
    },
    {
      "cell_type": "code",
      "execution_count": 13,
      "id": "b103e4dc-4474-487b-af1b-5b6b32616005",
      "metadata": {
        "id": "b103e4dc-4474-487b-af1b-5b6b32616005"
      },
      "outputs": [],
      "source": [
        "tagged_words = nltk.pos_tag(words, tagset = 'universal')"
      ]
    },
    {
      "cell_type": "code",
      "execution_count": 14,
      "id": "2563f435-1eba-48df-9f01-524e26a87b0d",
      "metadata": {
        "colab": {
          "base_uri": "https://localhost:8080/"
        },
        "id": "2563f435-1eba-48df-9f01-524e26a87b0d",
        "outputId": "14473ed2-4c5d-4236-d394-bff0ed05848c"
      },
      "outputs": [
        {
          "output_type": "execute_result",
          "data": {
            "text/plain": [
              "[('Myself', 'PRON'),\n",
              " ('Chirag', 'NOUN'),\n",
              " ('from', 'ADP'),\n",
              " ('VCET', 'NOUN'),\n",
              " ('college', 'NOUN'),\n",
              " ('.', '.'),\n",
              " ('Studying', 'VERB'),\n",
              " ('in', 'ADP'),\n",
              " ('FINAL', 'NOUN'),\n",
              " ('year', 'NOUN'),\n",
              " ('.', '.'),\n",
              " ('With', 'ADP'),\n",
              " ('specialization', 'NOUN'),\n",
              " ('in', 'ADP'),\n",
              " ('DATA', 'NOUN'),\n",
              " ('SCIENCE', 'NOUN'),\n",
              " ('.', '.')]"
            ]
          },
          "metadata": {},
          "execution_count": 14
        }
      ],
      "source": [
        "tagged_words"
      ]
    },
    {
      "cell_type": "code",
      "execution_count": 15,
      "id": "1fe2222b-4334-43cd-8c9a-924f00feaaf8",
      "metadata": {
        "colab": {
          "base_uri": "https://localhost:8080/"
        },
        "id": "1fe2222b-4334-43cd-8c9a-924f00feaaf8",
        "outputId": "3f90d242-3555-426c-a17e-fd0a469613a4"
      },
      "outputs": [
        {
          "output_type": "stream",
          "name": "stdout",
          "text": [
            "('Myself', 'PRON')\n",
            "('Chirag', 'NOUN')\n",
            "('from', 'ADP')\n",
            "('VCET', 'NOUN')\n",
            "('college', 'NOUN')\n",
            "('.', '.')\n",
            "('Studying', 'VERB')\n",
            "('in', 'ADP')\n",
            "('FINAL', 'NOUN')\n",
            "('year', 'NOUN')\n",
            "('.', '.')\n",
            "('With', 'ADP')\n",
            "('specialization', 'NOUN')\n",
            "('in', 'ADP')\n",
            "('DATA', 'NOUN')\n",
            "('SCIENCE', 'NOUN')\n",
            "('.', '.')\n"
          ]
        }
      ],
      "source": [
        "for t in tagged_words:\n",
        "    print(t)"
      ]
    },
    {
      "cell_type": "code",
      "execution_count": 15,
      "id": "fbd6875a-88ac-483c-a6d6-827b2f3ba6d5",
      "metadata": {
        "id": "fbd6875a-88ac-483c-a6d6-827b2f3ba6d5"
      },
      "outputs": [],
      "source": []
    }
  ],
  "metadata": {
    "kernelspec": {
      "display_name": "Python 3 (ipykernel)",
      "language": "python",
      "name": "python3"
    },
    "language_info": {
      "codemirror_mode": {
        "name": "ipython",
        "version": 3
      },
      "file_extension": ".py",
      "mimetype": "text/x-python",
      "name": "python",
      "nbconvert_exporter": "python",
      "pygments_lexer": "ipython3",
      "version": "3.11.5"
    },
    "colab": {
      "provenance": []
    }
  },
  "nbformat": 4,
  "nbformat_minor": 5
}